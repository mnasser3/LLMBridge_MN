{
 "cells": [
  {
   "cell_type": "code",
   "execution_count": null,
   "id": "0",
   "metadata": {
    "jupyter": {
     "outputs_hidden": true
    },
    "tags": []
   },
   "outputs": [],
   "source": [
    "import json\n",
    "import pandas as pd\n",
    "import numpy as np\n",
    "import os\n",
    "from openai import OpenAI\n",
    "from tqdm import tqdm\n",
    "import ast"
   ]
  },
  {
   "cell_type": "code",
   "execution_count": null,
   "id": "1",
   "metadata": {
    "jupyter": {
     "outputs_hidden": true
    }
   },
   "outputs": [],
   "source": [
    "import sys\n",
    "sys.path.append('/Users/mn/Desktop/BridgeAthletics/Proj2/Proj2DataPreprocessing')\n",
    "from Functions.DataSetManipulation import json_read\n"
   ]
  },
  {
   "cell_type": "code",
   "execution_count": null,
   "id": "2",
   "metadata": {
    "jupyter": {
     "outputs_hidden": true
    }
   },
   "outputs": [],
   "source": [
    "##################################################################"
   ]
  },
  {
   "cell_type": "code",
   "execution_count": null,
   "id": "3",
   "metadata": {
    "jupyter": {
     "outputs_hidden": true
    }
   },
   "outputs": [],
   "source": [
    "with open(\"/Users/mn/Desktop/BridgeAthletics/config.json\", \"r\") as config_file:\n",
    "    config = json.load(config_file)\n",
    "    api_key = config[\"OPENAI_API_KEY\"]\n",
    "\n",
    "client = OpenAI(api_key=api_key)"
   ]
  },
  {
   "cell_type": "code",
   "execution_count": null,
   "id": "4",
   "metadata": {
    "jupyter": {
     "outputs_hidden": true
    }
   },
   "outputs": [],
   "source": [
    "def run_chatgpt(prompt, client, model=\"gpt-3.5-turbo\"):\n",
    "    response = client.chat.completions.create(\n",
    "        model=model,\n",
    "        messages=[{\"role\": \"user\", \"content\": prompt}],\n",
    "        temperature=0.0,\n",
    "    )\n",
    "    return response.choices[0].message.content"
   ]
  },
  {
   "cell_type": "code",
   "execution_count": null,
   "id": "5",
   "metadata": {
    "jupyter": {
     "outputs_hidden": true
    }
   },
   "outputs": [],
   "source": [
    "############################ CHOOSE APPROPRIATE DATA SET DIRECTORY #############################"
   ]
  },
  {
   "cell_type": "code",
   "execution_count": null,
   "id": "6",
   "metadata": {
    "jupyter": {
     "outputs_hidden": true
    }
   },
   "outputs": [],
   "source": [
    "dir='/Users/mn/Desktop/BridgeAthletics/Proj2/Proj2DataPreprocessing/'\n",
    "sub_dir = ['Data1','Data2'] #if you create new dataset (dataset_i), sub_dir needs to be array of [dataset_i,dataset_i-1]"
   ]
  },
  {
   "cell_type": "code",
   "execution_count": null,
   "id": "7",
   "metadata": {
    "jupyter": {
     "outputs_hidden": true
    }
   },
   "outputs": [],
   "source": [
    "############################ REMOVING USELESS BLOCK NAMES ####################################"
   ]
  },
  {
   "cell_type": "code",
   "execution_count": null,
   "id": "8",
   "metadata": {
    "jupyter": {
     "outputs_hidden": true
    }
   },
   "outputs": [],
   "source": [
    "df = pd.DataFrame()\n",
    "for sd in range(0, len(sub_dir)):\n",
    "    temp_df = pd.read_csv(dir + sub_dir[sd] + '/IO_Workout_Sample.csv')\n",
    "    df = pd.concat([df, temp_df], ignore_index=True)"
   ]
  },
  {
   "cell_type": "code",
   "execution_count": null,
   "id": "9",
   "metadata": {
    "jupyter": {
     "outputs_hidden": true
    }
   },
   "outputs": [],
   "source": [
    "df.head()"
   ]
  },
  {
   "cell_type": "code",
   "execution_count": null,
   "id": "10",
   "metadata": {
    "jupyter": {
     "outputs_hidden": true
    }
   },
   "outputs": [],
   "source": [
    "len(df)"
   ]
  },
  {
   "cell_type": "code",
   "execution_count": null,
   "id": "11",
   "metadata": {
    "jupyter": {
     "outputs_hidden": true
    }
   },
   "outputs": [],
   "source": [
    "df.isna().sum()"
   ]
  },
  {
   "cell_type": "code",
   "execution_count": null,
   "id": "12",
   "metadata": {
    "jupyter": {
     "outputs_hidden": true
    }
   },
   "outputs": [],
   "source": [
    "df['name'] = df['name'].apply(ast.literal_eval)"
   ]
  },
  {
   "cell_type": "code",
   "execution_count": null,
   "id": "13",
   "metadata": {
    "jupyter": {
     "outputs_hidden": true
    }
   },
   "outputs": [],
   "source": [
    "df.loc[:, 'info'] = df['info'].apply(lambda x: x.replace(\"nan\", \"[]\") if isinstance(x, str) else x)\n",
    "df.loc[:, 'info'] = df['info'].apply(lambda x: x.replace(\"None\", \"'None'\") if isinstance(x, str) else x)"
   ]
  },
  {
   "cell_type": "code",
   "execution_count": null,
   "id": "14",
   "metadata": {
    "jupyter": {
     "outputs_hidden": true
    }
   },
   "outputs": [],
   "source": [
    "df['info'] = df['info'].apply(lambda x: x.replace(\"nan\", \"[]\").replace(\"None\", \"[]\") if isinstance(x, str) else x)\n",
    "\n",
    "def safe_literal_eval(val):\n",
    "    try:\n",
    "        return ast.literal_eval(val)\n",
    "    except (ValueError, SyntaxError) as e:\n",
    "        print(f\"Error evaluating: {val}\\nException: {e}\")\n",
    "        return val\n",
    "\n",
    "df['info'] = df['info'].apply(lambda x: safe_literal_eval(x) if isinstance(x, str) else x)"
   ]
  },
  {
   "cell_type": "code",
   "execution_count": null,
   "id": "15",
   "metadata": {
    "jupyter": {
     "outputs_hidden": true
    }
   },
   "outputs": [],
   "source": [
    "c=0\n",
    "t=[]\n",
    "for index, i in df['name'].items():\n",
    "    if all('warm' not in s.lower() for s in i) and all('prep' not in s.lower() for s in i):\n",
    "        t.append(index)\n",
    "df.drop(t, inplace=True)"
   ]
  },
  {
   "cell_type": "code",
   "execution_count": null,
   "id": "16",
   "metadata": {
    "jupyter": {
     "outputs_hidden": true
    }
   },
   "outputs": [],
   "source": [
    "df.head()"
   ]
  },
  {
   "cell_type": "code",
   "execution_count": null,
   "id": "17",
   "metadata": {
    "jupyter": {
     "outputs_hidden": true
    }
   },
   "outputs": [],
   "source": [
    "out_data = []\n",
    "from copy import deepcopy\n",
    "def custom_deepcopy(df):\n",
    "    new_df = df.copy(deep=True)\n",
    "    for col in df.columns:\n",
    "        if df[col].apply(lambda x: isinstance(x, list) or isinstance(x, dict)).any():\n",
    "            new_df[col] = df[col].apply(lambda x: deepcopy(x))\n",
    "    return new_df\n",
    "\n",
    "in_df = custom_deepcopy(df)"
   ]
  },
  {
   "cell_type": "code",
   "execution_count": null,
   "id": "18",
   "metadata": {
    "jupyter": {
     "outputs_hidden": true
    }
   },
   "outputs": [],
   "source": [
    "for index, row in in_df.iterrows():\n",
    "    ID=row['workoutID']\n",
    "    indexes_to_remove=[]\n",
    "    names=[]\n",
    "    items=[]\n",
    "    for ind,name in enumerate(row['name']):\n",
    "        if 'warm' in name.lower() or 'prep' in name.lower():\n",
    "            names.append(name)\n",
    "            items.append(row['info'][ind])\n",
    "            indexes_to_remove.append(ind)\n",
    "    out_data.append({'workoutID': ID, 'name': names, 'info':items})\n",
    "    for i in sorted(indexes_to_remove, reverse=True):\n",
    "        in_df.at[index, 'name'].pop(i)\n",
    "        in_df.at[index, 'info'].pop(i)\n",
    "\n",
    "out_df = pd.DataFrame(out_data)     \n",
    "out_df.head()"
   ]
  },
  {
   "cell_type": "code",
   "execution_count": null,
   "id": "19",
   "metadata": {
    "jupyter": {
     "outputs_hidden": true
    }
   },
   "outputs": [],
   "source": [
    "in_df.head()"
   ]
  },
  {
   "cell_type": "code",
   "execution_count": null,
   "id": "20",
   "metadata": {
    "jupyter": {
     "outputs_hidden": true
    }
   },
   "outputs": [],
   "source": [
    "print(len(in_df),len(out_df))"
   ]
  },
  {
   "cell_type": "code",
   "execution_count": null,
   "id": "21",
   "metadata": {
    "jupyter": {
     "outputs_hidden": true
    }
   },
   "outputs": [],
   "source": [
    "c=0\n",
    "for index, i in in_df['name'].items():\n",
    "    if all('warm' not in s.lower() for s in i) and all('prep' not in s.lower() for s in i):\n",
    "        c=c+1\n",
    "print('should be max len -',c)\n",
    "\n",
    "c=0\n",
    "for index, i in out_df['name'].items():\n",
    "    if all('warm' not in s.lower() for s in i) and all('prep' not in s.lower() for s in i):\n",
    "        c=c+1\n",
    "print(c)\n",
    "c=0\n",
    "for index, row in in_df.iterrows():\n",
    "    if len(row['info'])!=len(row['name']):\n",
    "        c=c+1\n",
    "print(c)\n",
    "c=0\n",
    "for index, row in out_df.iterrows():\n",
    "    if len(row['info'])!=len(row['name']):\n",
    "        c=c+1\n",
    "print(c)"
   ]
  },
  {
   "cell_type": "code",
   "execution_count": null,
   "id": "22",
   "metadata": {
    "jupyter": {
     "outputs_hidden": true
    }
   },
   "outputs": [],
   "source": [
    "in_df.rename(columns={'name': 'main_ex_names', 'info': 'main_info'}, inplace=True)\n",
    "out_df.rename(columns={'name': 'warmup_and_prep_ex_names', 'info': 'warmup_and_prep_info'}, inplace=True)"
   ]
  },
  {
   "cell_type": "code",
   "execution_count": null,
   "id": "23",
   "metadata": {
    "jupyter": {
     "outputs_hidden": true
    }
   },
   "outputs": [],
   "source": [
    "print(\"in_df 'workoutID' is unique:\", in_df['workoutID'].is_unique)\n",
    "    "
   ]
  },
  {
   "cell_type": "code",
   "execution_count": null,
   "id": "24",
   "metadata": {
    "jupyter": {
     "outputs_hidden": true
    }
   },
   "outputs": [],
   "source": [
    "IO_df = pd.merge(in_df, out_df, on='workoutID', how='left')"
   ]
  },
  {
   "cell_type": "code",
   "execution_count": null,
   "id": "25",
   "metadata": {
    "jupyter": {
     "outputs_hidden": true
    }
   },
   "outputs": [],
   "source": [
    "c=0\n",
    "for index, i in IO_df['main_ex_names'].items():\n",
    "    if all('warm' not in s.lower() for s in i) and all('prep' not in s.lower() for s in i):\n",
    "        c=c+1\n",
    "print('should be max len -',c)\n",
    "\n",
    "c=0\n",
    "for index, i in IO_df['warmup_and_prep_ex_names'].items():\n",
    "    if all('warm' not in s.lower() for s in i) and all('prep' not in s.lower() for s in i):\n",
    "        c=c+1\n",
    "print(c)\n",
    "c=0\n",
    "for index, row in IO_df.iterrows():\n",
    "    if len(row['warmup_and_prep_info'])!=len(row['warmup_and_prep_ex_names']):\n",
    "        c=c+1\n",
    "print(c)\n",
    "c=0\n",
    "for index, row in IO_df.iterrows():\n",
    "    if len(row['main_info'])!=len(row['main_ex_names']):\n",
    "        c=c+1\n",
    "print(c)"
   ]
  },
  {
   "cell_type": "code",
   "execution_count": null,
   "id": "26",
   "metadata": {
    "jupyter": {
     "outputs_hidden": true
    }
   },
   "outputs": [],
   "source": [
    "print(len(IO_df),len(in_df),len(out_df))"
   ]
  },
  {
   "cell_type": "code",
   "execution_count": null,
   "id": "27",
   "metadata": {
    "jupyter": {
     "outputs_hidden": true
    }
   },
   "outputs": [],
   "source": [
    "IO_df['main_ex_names'].head(n=10)"
   ]
  },
  {
   "cell_type": "code",
   "execution_count": null,
   "id": "28",
   "metadata": {
    "jupyter": {
     "outputs_hidden": true
    }
   },
   "outputs": [],
   "source": [
    "for index, row in IO_df.iterrows():\n",
    "    indexes_to_remove=[]\n",
    "    for ind,name in enumerate(row['main_ex_names']):\n",
    "        if 'recovery' in name.lower() or 'regeneration' in name.lower() or 'core' in name.lower() or 'auxiliary' in name.lower():\n",
    "            indexes_to_remove.append(ind)\n",
    "    for i in sorted(indexes_to_remove, reverse=True):\n",
    "        IO_df.at[index, 'main_ex_names'].pop(i)\n",
    "        IO_df.at[index, 'main_info'].pop(i)"
   ]
  },
  {
   "cell_type": "code",
   "execution_count": null,
   "id": "29",
   "metadata": {
    "jupyter": {
     "outputs_hidden": true
    }
   },
   "outputs": [],
   "source": [
    "c=0\n",
    "for index, i in IO_df['main_ex_names'].items():\n",
    "    if all('warm' not in s.lower() for s in i) and all('prep' not in s.lower() for s in i):\n",
    "        c=c+1\n",
    "print('should be max len -',c)\n",
    "\n",
    "c=0\n",
    "for index, i in IO_df['warmup_and_prep_ex_names'].items():\n",
    "    if all('warm' not in s.lower() for s in i) and all('prep' not in s.lower() for s in i):\n",
    "        c=c+1\n",
    "print(c)\n",
    "c=0\n",
    "for index, row in IO_df.iterrows():\n",
    "    if len(row['warmup_and_prep_info'])!=len(row['warmup_and_prep_ex_names']):\n",
    "        c=c+1\n",
    "print(c)\n",
    "c=0\n",
    "for index, row in IO_df.iterrows():\n",
    "    if len(row['main_info'])!=len(row['main_ex_names']):\n",
    "        c=c+1\n",
    "print(c)"
   ]
  },
  {
   "cell_type": "code",
   "execution_count": null,
   "id": "30",
   "metadata": {
    "jupyter": {
     "outputs_hidden": true
    }
   },
   "outputs": [],
   "source": [
    "rows_to_delete = IO_df[IO_df['main_ex_names'].apply(len) < 1].index\n",
    "print(rows_to_delete)\n",
    "IO_df.drop(rows_to_delete, inplace=True)\n",
    "IO_df.reset_index(drop=True, inplace=True)\n",
    "IO_df[IO_df['main_ex_names'].apply(len) < 1].index"
   ]
  },
  {
   "cell_type": "code",
   "execution_count": null,
   "id": "31",
   "metadata": {
    "jupyter": {
     "outputs_hidden": true
    }
   },
   "outputs": [],
   "source": [
    "for index, ex_names in IO_df['warmup_and_prep_ex_names'].items():\n",
    "    indices_to_remove = [i for i, s in enumerate(ex_names) if 'personalized warmup' in s.lower()]\n",
    "    IO_df.at[index, 'warmup_and_prep_ex_names'] = [s for i, s in enumerate(ex_names) if i not in indices_to_remove]\n",
    "    IO_df.at[index, 'warmup_and_prep_info'] = [info for i, info in enumerate(IO_df.at[index, 'warmup_and_prep_info']) if i not in indices_to_remove]"
   ]
  },
  {
   "cell_type": "code",
   "execution_count": null,
   "id": "32",
   "metadata": {
    "jupyter": {
     "outputs_hidden": true
    }
   },
   "outputs": [],
   "source": [
    "print(len(IO_df))"
   ]
  },
  {
   "cell_type": "code",
   "execution_count": null,
   "id": "33",
   "metadata": {
    "jupyter": {
     "outputs_hidden": true
    }
   },
   "outputs": [],
   "source": [
    "c=0\n",
    "for index, i in IO_df['main_ex_names'].items():\n",
    "    if all('warm' not in s.lower() for s in i) and all('prep' not in s.lower() for s in i):\n",
    "        c=c+1\n",
    "print('should be max len -',c)\n",
    "\n",
    "c=0\n",
    "rows_to_delete=[]\n",
    "for index, i in IO_df['warmup_and_prep_ex_names'].items():\n",
    "    if all('warm' not in s.lower() for s in i) and all('prep' not in s.lower() for s in i):\n",
    "        c=c+1\n",
    "        rows_to_delete.append(index)\n",
    "    \n",
    "print(f\"Number of rows to delete: {len(rows_to_delete)}\")\n",
    "IO_df = IO_df.drop(rows_to_delete).reset_index(drop=True)\n",
    "print(c-len(rows_to_delete))\n",
    "c=0\n",
    "for index, row in IO_df.iterrows():\n",
    "    if len(row['warmup_and_prep_info'])!=len(row['warmup_and_prep_ex_names']):\n",
    "        c=c+1\n",
    "print(c)\n",
    "c=0\n",
    "for index, row in IO_df.iterrows():\n",
    "    if len(row['main_info'])!=len(row['main_ex_names']):\n",
    "        c=c+1\n",
    "print(c)"
   ]
  },
  {
   "cell_type": "code",
   "execution_count": null,
   "id": "34",
   "metadata": {
    "jupyter": {
     "outputs_hidden": true
    }
   },
   "outputs": [],
   "source": [
    "import pandas as pd\n",
    "\n",
    "IO_df['main_info_str'] = IO_df['main_info'].apply(lambda x: json.dumps(x))\n",
    "IO_df['warmup_and_prep_info_str'] = IO_df['warmup_and_prep_info'].apply(lambda x: json.dumps(x))\n",
    "\n",
    "grouped = IO_df[IO_df.duplicated(subset=['main_info_str', 'warmup_and_prep_info_str'], keep=False)]\n",
    "\n",
    "grouped_by = grouped.groupby(['main_info_str', 'warmup_and_prep_info_str'])\n",
    "s=0\n",
    "pd.set_option('display.max_colwidth', 150)\n",
    "IO_df.drop(columns=['main_info_str', 'warmup_and_prep_info_str'], inplace=True)\n",
    "for name, group in grouped_by:\n",
    "    s=s+len(group)\n",
    "    \n",
    "print(s)\n",
    "print(len(grouped_by))\n",
    "pd.reset_option('display.max_colwidth')"
   ]
  },
  {
   "cell_type": "code",
   "execution_count": null,
   "id": "35",
   "metadata": {
    "jupyter": {
     "outputs_hidden": true
    }
   },
   "outputs": [],
   "source": [
    "IO_df['main_info_str'] = IO_df['main_info'].apply(lambda x: json.dumps(x))\n",
    "IO_df['warmup_and_prep_info_str'] = IO_df['warmup_and_prep_info'].apply(lambda x: json.dumps(x))\n",
    "\n",
    "IO_df_unique = IO_df.drop_duplicates(subset=['main_info_str', 'warmup_and_prep_info_str']).copy()\n",
    "IO_df_unique.drop(columns=['main_info_str', 'warmup_and_prep_info_str'], inplace=True)\n",
    "IO_df_unique.reset_index(drop=True, inplace=True)"
   ]
  },
  {
   "cell_type": "code",
   "execution_count": null,
   "id": "36",
   "metadata": {
    "jupyter": {
     "outputs_hidden": true
    }
   },
   "outputs": [],
   "source": [
    "print(len(IO_df_unique))\n",
    "print(s+(len(IO_df_unique)-len(grouped_by))==len(IO_df))"
   ]
  },
  {
   "cell_type": "code",
   "execution_count": null,
   "id": "37",
   "metadata": {
    "jupyter": {
     "outputs_hidden": true
    }
   },
   "outputs": [],
   "source": [
    "IO_df_unique.head()"
   ]
  },
  {
   "cell_type": "code",
   "execution_count": null,
   "id": "38",
   "metadata": {
    "jupyter": {
     "outputs_hidden": true
    }
   },
   "outputs": [],
   "source": [
    "lengths = IO_df_unique['warmup_and_prep_info'].apply(lambda x: len(x))\n",
    "lengths2= IO_df_unique['warmup_and_prep_ex_names'].apply(lambda x: len(x))\n",
    "print(lengths[lengths-lengths2!=0])\n",
    "max_length = 0\n",
    "\n",
    "m=lengths2.apply(lambda x: x==max_length)\n",
    "print(len(m[m]))"
   ]
  },
  {
   "cell_type": "code",
   "execution_count": null,
   "id": "39",
   "metadata": {
    "jupyter": {
     "outputs_hidden": true
    }
   },
   "outputs": [],
   "source": [
    "#run for max_length=0 and other if needed\n",
    "IO_df_unique.drop(m[m].index, inplace=True)\n",
    "IO_df_unique.reset_index(drop=True, inplace=True)"
   ]
  },
  {
   "cell_type": "code",
   "execution_count": null,
   "id": "40",
   "metadata": {
    "jupyter": {
     "outputs_hidden": true
    }
   },
   "outputs": [],
   "source": [
    "def extract_main_set_exercises(main_info):\n",
    "    exercises = set()\n",
    "    for block in main_info:\n",
    "        for exo in block:\n",
    "            if exo['exerciseType'][0].lower() == 'main set':\n",
    "                exercises.add(exo['exercise'])\n",
    "    return list(exercises)\n",
    "\n",
    "IO_df_unique['main_exercises'] = IO_df_unique['main_info'].apply(extract_main_set_exercises)"
   ]
  },
  {
   "cell_type": "code",
   "execution_count": null,
   "id": "41",
   "metadata": {
    "jupyter": {
     "outputs_hidden": true
    }
   },
   "outputs": [],
   "source": [
    "IO_df_unique.drop(columns=['main_info','main_ex_names'], inplace=True)\n",
    "IO_df_unique = IO_df_unique[['workoutID', 'main_exercises', 'warmup_and_prep_ex_names', 'warmup_and_prep_info']]\n",
    "IO_df_unique.head()"
   ]
  },
  {
   "cell_type": "code",
   "execution_count": null,
   "id": "42",
   "metadata": {
    "jupyter": {
     "outputs_hidden": true
    }
   },
   "outputs": [],
   "source": [
    "IO_df_unique.to_pickle(dir + sub_dir[-1] +'/IO_Workout_TempSave.pkl')"
   ]
  },
  {
   "cell_type": "code",
   "execution_count": null,
   "id": "43",
   "metadata": {
    "jupyter": {
     "outputs_hidden": true
    }
   },
   "outputs": [],
   "source": [
    "IO_df_unique=pd.read_pickle(dir + sub_dir[-1] +'/IO_Workout_TempSave.pkl')"
   ]
  },
  {
   "cell_type": "code",
   "execution_count": null,
   "id": "44",
   "metadata": {
    "jupyter": {
     "outputs_hidden": true
    }
   },
   "outputs": [],
   "source": [
    "#NEXT: combine earmup names with info and remove null params"
   ]
  },
  {
   "cell_type": "code",
   "execution_count": null,
   "id": "45",
   "metadata": {
    "jupyter": {
     "outputs_hidden": true
    }
   },
   "outputs": [],
   "source": [
    "def clean_exercise_info(blocks):\n",
    "    final_block=[]\n",
    "    for block in blocks:\n",
    "        cleaned_info = []\n",
    "        for entry in block:\n",
    "            entry.pop('exerciseType', None)\n",
    "            entry = {k: v for k, v in entry.items() if not (isinstance(v, list) and all(x == 0 for x in v))}\n",
    "            cleaned_info.append(entry)\n",
    "        final_block.append(cleaned_info)\n",
    "    return final_block\n",
    "    \n",
    "IO_df_unique['warmup_and_prep_info'] = IO_df_unique['warmup_and_prep_info'].apply(clean_exercise_info)"
   ]
  },
  {
   "cell_type": "code",
   "execution_count": null,
   "id": "46",
   "metadata": {
    "jupyter": {
     "outputs_hidden": true
    }
   },
   "outputs": [],
   "source": [
    "IO_df_unique['warmup_and_prep_ex_names'][1]"
   ]
  },
  {
   "cell_type": "code",
   "execution_count": null,
   "id": "47",
   "metadata": {
    "jupyter": {
     "outputs_hidden": true
    }
   },
   "outputs": [],
   "source": [
    "def combine_exercises(names, info):\n",
    "    return {name: exercises for name, exercises in zip(names, info)}\n",
    "IO_df_unique['combined_warmup_and_prep'] = IO_df_unique.apply(lambda row: combine_exercises(row['warmup_and_prep_ex_names'], row['warmup_and_prep_info']), axis=1)\n",
    "IO_df_unique.drop(columns=['warmup_and_prep_ex_names', 'warmup_and_prep_info'], inplace=True)\n",
    "\n"
   ]
  },
  {
   "cell_type": "code",
   "execution_count": null,
   "id": "48",
   "metadata": {
    "jupyter": {
     "outputs_hidden": true
    }
   },
   "outputs": [],
   "source": [
    "IO_df_unique.head()"
   ]
  },
  {
   "cell_type": "code",
   "execution_count": null,
   "id": "49",
   "metadata": {
    "jupyter": {
     "outputs_hidden": true
    }
   },
   "outputs": [],
   "source": [
    "IO_df_unique.to_pickle(dir + sub_dir[-1] +'/IO_Workout_Final.pkl')"
   ]
  },
  {
   "cell_type": "code",
   "execution_count": null,
   "id": "50",
   "metadata": {
    "jupyter": {
     "outputs_hidden": true
    }
   },
   "outputs": [],
   "source": [
    "IO_df_unique=pd.read_pickle(dir + sub_dir[-1] +'/IO_Workout_Final.pkl')\n",
    "IO_df_unique.drop(columns=['workoutID'], inplace=True)\n",
    "IO_df_unique.rename(columns={'main_exercises':'input', 'combined_warmup_and_prep': 'output'}, inplace=True)"
   ]
  },
  {
   "cell_type": "code",
   "execution_count": null,
   "id": "51",
   "metadata": {
    "jupyter": {
     "outputs_hidden": true
    }
   },
   "outputs": [],
   "source": [
    "rows_to_delete=set()\n",
    "for index, i in IO_df_unique['input'].items():\n",
    "    if len(i)==0:\n",
    "        rows_to_delete.add(index)\n",
    "        \n",
    "for index, i in IO_df_unique['output'].items():\n",
    "    if len(i)==0:\n",
    "        rows_to_delete.add(index)\n",
    "\n",
    "for index, i in IO_df_unique['output'].items():\n",
    "    for k in i:\n",
    "        if len(i[k])==0:\n",
    "            rows_to_delete.add(index)\n",
    "            \n",
    "        \n",
    "rows_to_delete=list(rows_to_delete)\n",
    "        \n",
    "print(f\"Number of rows to delete: {len(rows_to_delete)}\")\n",
    "IO_df_unique = IO_df_unique.drop(rows_to_delete).reset_index(drop=True)"
   ]
  },
  {
   "cell_type": "code",
   "execution_count": null,
   "id": "52",
   "metadata": {
    "jupyter": {
     "outputs_hidden": true
    }
   },
   "outputs": [],
   "source": [
    "print(len(IO_df_unique))"
   ]
  },
  {
   "cell_type": "code",
   "execution_count": null,
   "id": "53",
   "metadata": {
    "jupyter": {
     "outputs_hidden": true
    }
   },
   "outputs": [],
   "source": [
    "new_json_file = dir + sub_dir[-1] +'/IO_Workout_Final.json'"
   ]
  },
  {
   "cell_type": "code",
   "execution_count": null,
   "id": "54",
   "metadata": {
    "jupyter": {
     "outputs_hidden": true
    }
   },
   "outputs": [],
   "source": [
    "json_data = IO_df_unique.to_dict(orient='records')\n",
    "with open(new_json_file, \"w\") as file:\n",
    "    json.dump(json_data, file, indent=1)"
   ]
  },
  {
   "cell_type": "code",
   "execution_count": null,
   "id": "55",
   "metadata": {
    "jupyter": {
     "outputs_hidden": true
    }
   },
   "outputs": [],
   "source": [
    "###READING DATASET"
   ]
  },
  {
   "cell_type": "code",
   "execution_count": null,
   "id": "56",
   "metadata": {
    "jupyter": {
     "outputs_hidden": true
    }
   },
   "outputs": [],
   "source": [
    "with open(new_json_file, \"r\") as file:\n",
    "    loaded_json_data = json.load(file)"
   ]
  },
  {
   "cell_type": "code",
   "execution_count": null,
   "id": "57",
   "metadata": {
    "jupyter": {
     "outputs_hidden": true
    },
    "tags": []
   },
   "outputs": [],
   "source": [
    "loaded_json_data[1]['input']\n",
    "loaded_json_data[1]['output']['Warmup']\n",
    "loaded_json_data[0]['input'][0]"
   ]
  },
  {
   "cell_type": "code",
   "execution_count": null,
   "id": "58",
   "metadata": {
    "jupyter": {
     "outputs_hidden": true
    }
   },
   "outputs": [],
   "source": [
    "c=0\n",
    "d=0\n",
    "for i in range(len(loaded_json_data)-1,-1,-1):\n",
    "    c=c+1\n",
    "    if len(loaded_json_data[i]['input'])==0:\n",
    "        d=d+1\n",
    "        del(loaded_json_data[i])\n",
    "    else:\n",
    "        if len(loaded_json_data[i]['output'])==0:\n",
    "            d=d+1\n",
    "            del loaded_json_data[i]\n",
    "        else:\n",
    "            keys_to_remove = [k for k in loaded_json_data[i]['output'] if len(loaded_json_data[i]['output'][k]) == 0]\n",
    "            if len(keys_to_remove)>0:\n",
    "                d=d+1\n",
    "                for k in keys_to_remove:\n",
    "                    del loaded_json_data[i]['output'][k]\n",
    "            \n",
    "print('done')\n",
    "print(c,d)"
   ]
  },
  {
   "cell_type": "code",
   "execution_count": null,
   "id": "59",
   "metadata": {
    "jupyter": {
     "outputs_hidden": true
    }
   },
   "outputs": [],
   "source": [
    "c=0\n",
    "d=0\n",
    "for i in range(len(loaded_json_data)-1,-1,-1):\n",
    "    c=c+1\n",
    "    if (len(loaded_json_data[i]['input']) == 0 or len(loaded_json_data[i]['output'])==0):\n",
    "        d=d+1\n",
    "print('done')\n",
    "print(c,d)"
   ]
  },
  {
   "cell_type": "code",
   "execution_count": null,
   "id": "60",
   "metadata": {
    "jupyter": {
     "outputs_hidden": true
    }
   },
   "outputs": [],
   "source": [
    "print(len(loaded_json_data))"
   ]
  }
 ],
 "metadata": {
  "kernelspec": {
   "display_name": "Python 3 (ipykernel)",
   "language": "python",
   "name": "python3"
  },
  "language_info": {
   "codemirror_mode": {
    "name": "ipython",
    "version": 3
   },
   "file_extension": ".py",
   "mimetype": "text/x-python",
   "name": "python",
   "nbconvert_exporter": "python",
   "pygments_lexer": "ipython3",
   "version": "3.9.12"
  }
 },
 "nbformat": 4,
 "nbformat_minor": 5
}
